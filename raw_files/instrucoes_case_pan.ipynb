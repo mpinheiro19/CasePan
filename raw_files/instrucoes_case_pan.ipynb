{
 "cells": [
  {
   "cell_type": "markdown",
   "id": "d23c2c73",
   "metadata": {},
   "source": [
    "# Case - Modelagem de Crédito - SCR Dados\n",
    "\n",
    "## Introdução\n",
    "Neste case, queremos visualizar como você resolveria um problema de dados, de complexidade intermediária com SQL e Python.\n",
    "\n",
    "O desafio consiste em pegar uma base mais produtiva e gerar uma base que possa ser utilizada de forma mais rápida em outros contextos.\n",
    "\n",
    "O tempo médio de solução deste case é <span style=\"color:red;font-weight:bold\">6h</span>."
   ]
  },
  {
   "cell_type": "markdown",
   "id": "eaa250d0",
   "metadata": {},
   "source": [
    "## Case\n",
    "\n",
    "O **Banco Central (BC)** mantém o **Sistema de Informações de Créditos (SCR)**, um instrumento de registro gerido pelo BC e alimentado mensalmente pelas instituições financeiras, que enviam quanto cada CPF possui de saldo devedor ou limite em diversas modalidades de crédito.\n",
    "\n",
    "Quando um banco consulta o SCR, obtém as modalidades que um cliente possui dívida, e isto auxilia muito nas decisões de conceder ou não um crédito.\n",
    "\n",
    "Links interessantes para maiores informações:\n",
    "\n",
    "1. [Link para página do SCR](https://www.bcb.gov.br/estabilidadefinanceira/scr)\n",
    "1. [Instruções para preenchimento do Documento 3040](https://www.bcb.gov.br/content/estabilidadefinanceira/Leiaute_de_documentos/scrdoc3040/SCR_InstrucoesDePreenchimento_Doc3040.pdf)\n",
    "1. [Link para referência de modalidades](https://www.bcb.gov.br/content/estabilidadefinanceira/Leiaute_de_documentos/scrdoc3040/SCR3040_Leiaute.xls)\n",
    "(ver a planilha Anexo, a  tabela Anexo 3)"
   ]
  },
  {
   "cell_type": "markdown",
   "id": "9ec8c3c6",
   "metadata": {},
   "source": [
    "### O que você está recebendo\n",
    "\n",
    "Você está recebendo o arquivo **base_bacen.sqlite**. Este é um banco de dados SQLite com uma única tabela, **scr**. Esta tabela possui o schema abaixo:"
   ]
  },
  {
   "cell_type": "markdown",
   "id": "68a593d8",
   "metadata": {},
   "source": [
    "| coluna               | tipo    | descricao  |\n",
    "|----------------------|---------|------------------------------------------------------------------------------------------|\n",
    "| chave_cpf      | string  | Hash que identifica um cliente.                                                          |\n",
    "| data_consulta_dado_bacen| string     | Mês da consulta, no formato YYYY-MM                                                |\n",
    "| codigo_modalidade_operacao           | int     | Modalidade de crédito, no formato <span style='color:green;font-weight:bold'>xx</span><span style='color:blue;font-weight:bold'>yy</span>, onde <span style='color:green;font-weight:bold'>xx</span> indica o domínio e <span style='color:blue;font-weight:bold'>yy</span> indica o subdomínio.<br><br>Veja a tabela abaixo. |\n",
    "| valor_credito_vencer_ate_30_dia     | float   | Saldo a vencer no prazo de 0 a 30 dias.                                   |\n",
    "| valor_credito_vencer_31_60_dia    | float   | Saldo a vencer no prazo de 31 a 60 dias.                                    |\n",
    "| valor_credito_vencer_61_90_dia    | float   | Saldo a vencer no prazo de 61 a 90 dias.                                    |\n",
    "| valor_credito_vencer_acima_90_dia | float   | Saldo a vencer num prazo acima de 90 dias.                                  |\n",
    "| valor_credito_vencido_15_30_dia     | float   | Saldo vencido, de 0 a 30 dias.                                            |\n",
    "| valor_credito_vencido_31_60_dia    | float   | Saldo vencido, de 31 a 60 dias.                                            |\n",
    "| valor_credito_vencido_61_90_dia    | float   | Saldo vencido, de 61 a 90 dias.                                            |\n",
    "| valor_credito_vencido_acima_90_dia | float   | Saldo vencido a mais de 90 dias.                                           |"
   ]
  },
  {
   "cell_type": "markdown",
   "id": "6894dcb0",
   "metadata": {},
   "source": [
    "Neste case, estamos simulando uma tabela com estes campos. Estamos enviando as seguintes modalidades:\n",
    "\n",
    "| Modalidade | Domínio | Subdomínio | Descrição                                                  |\n",
    "|------------|---------|------------|------------------------------------------------------------|\n",
    "| 202 | 02 |02 | consignado |\n",
    "| 101 | 01 |01 | cheque_especial |\n",
    "| 213 | 02 |13 | cheque_especial |\n",
    "| 204 | 02 |04 | cartao_revolver |\n",
    "| 210 | 02 |10 | cartao_revolver |\n",
    "| 218 | 02 |18 | cartao_revolver |\n",
    "| 406 | 04 |06 | cartao_revolver |\n",
    "| 1304 | 13 |04 | cartao_transactor |\n",
    "| 499 | 04 |99 | outros |\n",
    "|  .   | .   | .  |  .      |"
   ]
  },
  {
   "cell_type": "markdown",
   "id": "d647b09e",
   "metadata": {},
   "source": [
    "### O que queremos que você prepare\n",
    "\n",
    "Um arquivo csv, chamada **book_scr.csv**, contendo uma tabela que terá suas colunas utilizadas como variáveis explicativas de modelos de crédito.\n",
    "\n",
    "Esta tabela deve ter o seguinte layout:\n",
    "\n",
    "1. Cada linha representa um CPF / data_consulta_dado_bacen;\n",
    "2. Colunas descrevendo o saldo de cada faixa de atraso para cada produto; por exemplo: ```cartao_trasactor_saldo_vencer_0_30_dias```\n",
    "3. Criação de faixas de atraso maiores; por exemplo, 0 a 60 dias, para cada produto;\n",
    "4. Quaisquer combinações de variáveis que você considerar útil para construção de um modelo de crédito.\n",
    "\n",
    "\n",
    "Exemplo (Primeiras colunas apenas):\n",
    "\n",
    "|   chave_cpf | data_consulta_dado_bacen   |   cheque_especial_valor_credito_vencer_ate_30_dia |   cheque_especial_valor_credito_vencer_31_60_dia |   cheque_especial_valor_credito_vencer_61_90_dia |\n",
    "|------------:|:---------------------------|--------------------------------------------------:|-------------------------------------------------:|-------------------------------------------------:|\n",
    "| 10003023342 | 2022-06                    |                                                 0 |                                                0 |                                                0 |\n",
    "| 10003023342 | 2022-07                    |                                                 0 |                                                0 |                                                0 |\n",
    "| 10003023342 | 2022-08                    |                                                 0 |                                                0 |                                                0 |\n",
    "| 10004431332 | 2022-06                    |                                                 0 |                                                0 |                                                0 |\n",
    "|  1000721890 | 2022-06                    |                                                 0 |                                                0 |                                                0 |"
   ]
  },
  {
   "cell_type": "markdown",
   "id": "03fddb1f",
   "metadata": {},
   "source": [
    "____\n",
    "\n",
    "## O que esperamos"
   ]
  },
  {
   "cell_type": "markdown",
   "id": "822b2e6b",
   "metadata": {},
   "source": [
    "### 1. Demonstre seu conhecimento de SQL e Python\n",
    "Utilize, dentro do possível, seu conhecimento de SQL e Python.\n",
    "\n",
    "Pontos de atenção:\n",
    "1. Não recomendamos o uso de ORMs.\n",
    "2. Dê preferência a tratar os dados em SQL: a tabela original possui mais de 5 bilhões de linhas, não sendo possível tratar em Pandas."
   ]
  },
  {
   "cell_type": "markdown",
   "id": "838b74ee",
   "metadata": {},
   "source": [
    "### 2. Apresente seu case organizado\n",
    "Queremos ver seu código. Não é necessário preparar apresentação PowerPoint.\n",
    "\n",
    "Organize seus scripts, notebooks e queries para que seja possível entender o que está sendo feito."
   ]
  },
  {
   "cell_type": "markdown",
   "id": "2dd2800f",
   "metadata": {},
   "source": [
    "### 3. Sugestão de próximos passos\n",
    "Dado que seu case foi aceito, o que você sugere de próximos passos?\n",
    "___"
   ]
  },
  {
   "cell_type": "markdown",
   "id": "eec57137",
   "metadata": {},
   "source": [
    "## O que será valorizado"
   ]
  },
  {
   "cell_type": "markdown",
   "id": "ffc9492a",
   "metadata": {},
   "source": [
    "### 1. Utilize funções e classes para facilitar seu trabalho\n",
    "Você está recebendo uma tabela pequena, amostral. Como indicado antes, a tabela original possui mais de 5 bilhões de linhas, e geramos mais de 2000 colunas.\n",
    "\n",
    "É possível, mas inviável escrever na mão o SQL. Assim, na medida do possível, crie funções e classes para facilitar seu trabalho, conforme a necessidade. Não complique mais que o necessário."
   ]
  },
  {
   "cell_type": "markdown",
   "id": "e6a8c9db",
   "metadata": {},
   "source": [
    "___"
   ]
  },
  {
   "cell_type": "markdown",
   "id": "3e3829b9",
   "metadata": {},
   "source": [
    "## Dicas"
   ]
  },
  {
   "cell_type": "markdown",
   "id": "8b6bca54",
   "metadata": {},
   "source": [
    "### 1. Utilize as funcionalidades do Python para gerar o SQL\n",
    "Se surgir uma nova modalidade, como você incluiria ela em minutos dentro do processo?"
   ]
  },
  {
   "cell_type": "markdown",
   "id": "a678b68a",
   "metadata": {},
   "source": [
    "### 2. Analise a base que você está trabalhando\n",
    "Considere que a base pode conter erros e coisas desconhecidas. Sugira o que fazer em cada situação.\n"
   ]
  }
 ],
 "metadata": {
  "kernelspec": {
   "display_name": "monitoramento",
   "language": "python",
   "name": "monitoramento"
  },
  "language_info": {
   "codemirror_mode": {
    "name": "ipython",
    "version": 3
   },
   "file_extension": ".py",
   "mimetype": "text/x-python",
   "name": "python",
   "nbconvert_exporter": "python",
   "pygments_lexer": "ipython3",
   "version": "3.10.9"
  }
 },
 "nbformat": 4,
 "nbformat_minor": 5
}
