{
 "cells": [
  {
   "cell_type": "code",
   "execution_count": 1,
   "id": "d3656d5d",
   "metadata": {},
   "outputs": [],
   "source": [
    "# Conexão com o Banco\n",
    "from database import connect, query\n",
    "conn = connect()\n",
    "\n",
    "# Exemplo de query\n",
    "query(conn, 'select * from scr limit 10')\n",
    "\n",
    "query(conn, 'create table teste as select 1')"
   ]
  },
  {
   "cell_type": "code",
   "execution_count": null,
   "id": "58b9b278",
   "metadata": {},
   "outputs": [],
   "source": []
  }
 ],
 "metadata": {
  "kernelspec": {
   "display_name": "monitoramento",
   "language": "python",
   "name": "monitoramento"
  },
  "language_info": {
   "codemirror_mode": {
    "name": "ipython",
    "version": 3
   },
   "file_extension": ".py",
   "mimetype": "text/x-python",
   "name": "python",
   "nbconvert_exporter": "python",
   "pygments_lexer": "ipython3",
   "version": "3.10.9"
  }
 },
 "nbformat": 4,
 "nbformat_minor": 5
}
